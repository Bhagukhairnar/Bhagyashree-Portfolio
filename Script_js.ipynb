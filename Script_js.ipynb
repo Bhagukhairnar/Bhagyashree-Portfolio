{
  "nbformat": 4,
  "nbformat_minor": 0,
  "metadata": {
    "colab": {
      "provenance": []
    },
    "kernelspec": {
      "name": "python3",
      "display_name": "Python 3"
    },
    "language_info": {
      "name": "python"
    }
  },
  "cells": [
    {
      "cell_type": "code",
      "execution_count": null,
      "metadata": {
        "id": "wWJ7XR1JyUeT"
      },
      "outputs": [],
      "source": [
        "// Intersection Observer for animations\n",
        "const faders = document.querySelectorAll('.fade-up');\n",
        "\n",
        "const appearOptions = {\n",
        "    threshold: 0.2,\n",
        "    rootMargin: \"0px 0px -50px 0px\"\n",
        "};\n",
        "\n",
        "const appearOnScroll = new IntersectionObserver(function(entries, observer) {\n",
        "    entries.forEach(entry => {\n",
        "        if (!entry.isIntersecting) return;\n",
        "        entry.target.style.animationPlayState = 'running';\n",
        "        observer.unobserve(entry.target);\n",
        "    });\n",
        "}, appearOptions);\n",
        "\n",
        "faders.forEach(fader => {\n",
        "    appearOnScroll.observe(fader);\n",
        "});\n"
      ]
    }
  ]
}